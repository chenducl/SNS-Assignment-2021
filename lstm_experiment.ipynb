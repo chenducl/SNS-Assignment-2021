{
 "metadata": {
  "language_info": {
   "codemirror_mode": {
    "name": "ipython",
    "version": 3
   },
   "file_extension": ".py",
   "mimetype": "text/x-python",
   "name": "python",
   "nbconvert_exporter": "python",
   "pygments_lexer": "ipython3",
   "version": "3.6.4-final"
  },
  "orig_nbformat": 2,
  "kernelspec": {
   "name": "python3",
   "display_name": "Python 3.6.4 64-bit",
   "metadata": {
    "interpreter": {
     "hash": "ef9226f5f281bed155f6877abe961f8893e93036b236b1a7e5395de73a55139a"
    }
   }
  }
 },
 "nbformat": 4,
 "nbformat_minor": 2,
 "cells": [
  {
   "source": [
    "## LSTM Models\n",
    "\n",
    "- Single Layer LSTM\n",
    "- Multiple Layers LSTM\n",
    "- LSTM with Attention"
   ],
   "cell_type": "markdown",
   "metadata": {}
  },
  {
   "source": [
    "## Model Structures"
   ],
   "cell_type": "markdown",
   "metadata": {}
  },
  {
   "cell_type": "code",
   "execution_count": 13,
   "metadata": {},
   "outputs": [],
   "source": [
    "from tensorflow.keras.utils import plot_model\n",
    "from data import *\n",
    "from lstm_model import *\n",
    "\n",
    "model_types = ['single_layer_lstm', 'multi_layer_lstm', 'lstm_attention', 'attention_lstm']\n",
    "for model_type in model_types:\n",
    "    model = LSTMModel(model_path=f\"./models/{model_type}_trends\")\n",
    "    model.read_model()\n",
    "    plot_model(model.model, to_file=f'{model_type}.png', show_shapes=True)"
   ]
  },
  {
   "source": [
    "## Activation Experiment\n",
    "\n",
    "Test on 4 activation functions in LSTM, including:\n",
    "\n",
    "- sigmoid\n",
    "- tanh\n",
    "- relu\n",
    "- linear"
   ],
   "cell_type": "markdown",
   "metadata": {}
  },
  {
   "cell_type": "code",
   "execution_count": 1,
   "metadata": {},
   "outputs": [],
   "source": [
    "import seaborn as sns\n",
    "import pickle as pkl\n",
    "from matplotlib import pyplot as plt\n",
    "\n",
    "from data import *\n",
    "from lstm_model import *\n",
    "\n",
    "# Set plotting style\n",
    "sns.set_style('whitegrid')\n",
    "sns.set_palette('Set2')\n"
   ]
  },
  {
   "cell_type": "code",
   "execution_count": null,
   "metadata": {},
   "outputs": [],
   "source": [
    "# Get confirmed cases dataset\n",
    "dataset, dataset_rolling = get_dataset_confirmed()\n",
    "# Print loss of different activations\n",
    "model_type = 'single_layer_lstm'\n",
    "activations = ['sigmoid', 'tanh', 'linear', 'relu']\n",
    "for activation in activations:\n",
    "    configs = {\n",
    "        'dataset': dataset_rolling,\n",
    "        'model_path': f\"./models/{model_type}_confirmed_{activation}\",\n",
    "        'model_type': model_type,\n",
    "        'activation': activation,\n",
    "    }\n",
    "    model = LSTMModel(**configs)\n",
    "    model.read_model()\n",
    "    # model.plot(f'Confirmed Cases Forcasting with Activation: {activation}')\n",
    "    model.evaluate()"
   ]
  },
  {
   "cell_type": "code",
   "execution_count": null,
   "metadata": {},
   "outputs": [],
   "source": [
    "import pickle\n",
    "\n",
    "# Print loss of different activations\n",
    "for activation in ['linear', 'tanh', 'relu']:\n",
    "    history_path = f\"./models/{model_type}_confirmed_{activation}/history.pkl\"\n",
    "    history_file = open(history_path, 'rb')\n",
    "    history = pickle.load(history_file)\n",
    "\n",
    "    plt.figure(figsize=(10, 8))\n",
    "    plt.plot(history['loss'])\n",
    "    plt.title(f'Model Loss of {activation}')\n",
    "    plt.ylabel('Loss')\n",
    "    plt.xlabel('Epoch')\n",
    "    # plt.legend(['Loss'], loc='upper left')\n",
    "    plt.show()"
   ]
  },
  {
   "source": [
    "## Google Trends Forecasting Accuracy"
   ],
   "cell_type": "markdown",
   "metadata": {}
  },
  {
   "cell_type": "code",
   "execution_count": 3,
   "metadata": {},
   "outputs": [
    {
     "output_type": "stream",
     "name": "stdout",
     "text": [
      "13/13 [==============================] - 0s 2ms/step - loss: 0.0465\n",
      "13/13 [==============================] - 1s 4ms/step - loss: 0.0462\n",
      "13/13 [==============================] - 1s 2ms/step - loss: 0.0351\n",
      "13/13 [==============================] - 0s 3ms/step - loss: 0.0036\n"
     ]
    }
   ],
   "source": [
    "# Get trends dataset\n",
    "dataset, dataset_rolling = get_dataset_trends()\n",
    "model_types = ['single_layer_lstm', 'multi_layer_lstm', 'lstm_attention', 'attention_lstm']\n",
    "# model_types = ['lstm_attention', 'attention_lstm']\n",
    "\n",
    "vaccine_acc = pd.DataFrame(columns=model_types)\n",
    "covid_acc = pd.DataFrame(columns=model_types)\n",
    "\n",
    "for model_type in model_types:\n",
    "    configs = {\n",
    "        'dataset': dataset_rolling,\n",
    "        'model_path': f\"./models/{model_type}_trends\",\n",
    "        'model_type': model_type,\n",
    "    }\n",
    "    model = LSTMModel(**configs)\n",
    "    model.read_model()\n",
    "    model.evaluate()\n",
    "    vaccine_acc[model_type] = model.get_acc()['trends_vaccine'].values\n",
    "    covid_acc[model_type] = model.get_acc()['trends_covid'].values"
   ]
  },
  {
   "cell_type": "code",
   "execution_count": 4,
   "metadata": {},
   "outputs": [
    {
     "output_type": "execute_result",
     "data": {
      "text/plain": [
       "    single_layer_lstm  multi_layer_lstm  lstm_attention  attention_lstm\n",
       "0            0.764897          0.760600        0.812198        0.985909\n",
       "1            0.745847          0.741661        0.792178        0.975640\n",
       "2            0.729086          0.724996        0.774562        0.964812\n",
       "3            0.717002          0.712981        0.761918        0.958742\n",
       "4            0.710459          0.706477        0.755107        0.957607\n",
       "5            0.693996          0.690107        0.737745        0.941524\n",
       "6            0.683038          0.679211        0.726214        0.932680\n",
       "7            0.667807          0.664067        0.710135        0.916855\n",
       "8            0.652147          0.648495        0.693591        0.900531\n",
       "9            0.645658          0.642042        0.686805        0.893913\n",
       "10           0.637204          0.633636        0.677932        0.884450\n",
       "11           0.625935          0.622431        0.666047        0.871212\n",
       "12           0.621935          0.618454        0.661886        0.867440"
      ],
      "text/html": "<div>\n<style scoped>\n    .dataframe tbody tr th:only-of-type {\n        vertical-align: middle;\n    }\n\n    .dataframe tbody tr th {\n        vertical-align: top;\n    }\n\n    .dataframe thead th {\n        text-align: right;\n    }\n</style>\n<table border=\"1\" class=\"dataframe\">\n  <thead>\n    <tr style=\"text-align: right;\">\n      <th></th>\n      <th>single_layer_lstm</th>\n      <th>multi_layer_lstm</th>\n      <th>lstm_attention</th>\n      <th>attention_lstm</th>\n    </tr>\n  </thead>\n  <tbody>\n    <tr>\n      <th>0</th>\n      <td>0.764897</td>\n      <td>0.760600</td>\n      <td>0.812198</td>\n      <td>0.985909</td>\n    </tr>\n    <tr>\n      <th>1</th>\n      <td>0.745847</td>\n      <td>0.741661</td>\n      <td>0.792178</td>\n      <td>0.975640</td>\n    </tr>\n    <tr>\n      <th>2</th>\n      <td>0.729086</td>\n      <td>0.724996</td>\n      <td>0.774562</td>\n      <td>0.964812</td>\n    </tr>\n    <tr>\n      <th>3</th>\n      <td>0.717002</td>\n      <td>0.712981</td>\n      <td>0.761918</td>\n      <td>0.958742</td>\n    </tr>\n    <tr>\n      <th>4</th>\n      <td>0.710459</td>\n      <td>0.706477</td>\n      <td>0.755107</td>\n      <td>0.957607</td>\n    </tr>\n    <tr>\n      <th>5</th>\n      <td>0.693996</td>\n      <td>0.690107</td>\n      <td>0.737745</td>\n      <td>0.941524</td>\n    </tr>\n    <tr>\n      <th>6</th>\n      <td>0.683038</td>\n      <td>0.679211</td>\n      <td>0.726214</td>\n      <td>0.932680</td>\n    </tr>\n    <tr>\n      <th>7</th>\n      <td>0.667807</td>\n      <td>0.664067</td>\n      <td>0.710135</td>\n      <td>0.916855</td>\n    </tr>\n    <tr>\n      <th>8</th>\n      <td>0.652147</td>\n      <td>0.648495</td>\n      <td>0.693591</td>\n      <td>0.900531</td>\n    </tr>\n    <tr>\n      <th>9</th>\n      <td>0.645658</td>\n      <td>0.642042</td>\n      <td>0.686805</td>\n      <td>0.893913</td>\n    </tr>\n    <tr>\n      <th>10</th>\n      <td>0.637204</td>\n      <td>0.633636</td>\n      <td>0.677932</td>\n      <td>0.884450</td>\n    </tr>\n    <tr>\n      <th>11</th>\n      <td>0.625935</td>\n      <td>0.622431</td>\n      <td>0.666047</td>\n      <td>0.871212</td>\n    </tr>\n    <tr>\n      <th>12</th>\n      <td>0.621935</td>\n      <td>0.618454</td>\n      <td>0.661886</td>\n      <td>0.867440</td>\n    </tr>\n  </tbody>\n</table>\n</div>"
     },
     "metadata": {},
     "execution_count": 4
    }
   ],
   "source": [
    "vaccine_acc"
   ]
  },
  {
   "cell_type": "code",
   "execution_count": 9,
   "metadata": {},
   "outputs": [
    {
     "output_type": "execute_result",
     "data": {
      "text/plain": [
       "single_layer_lstm    0.684232\n",
       "multi_layer_lstm     0.680397\n",
       "lstm_attention       0.727409\n",
       "attention_lstm       0.927024\n",
       "dtype: float64"
      ]
     },
     "metadata": {},
     "execution_count": 9
    }
   ],
   "source": [
    "df = vaccine_acc.apply(lambda row: row.mean())\n",
    "df"
   ]
  },
  {
   "cell_type": "code",
   "execution_count": 10,
   "metadata": {},
   "outputs": [
    {
     "output_type": "execute_result",
     "data": {
      "text/plain": [
       "    single_layer_lstm  multi_layer_lstm  lstm_attention  attention_lstm\n",
       "0            0.929392          0.966286        0.947337        0.984699\n",
       "1            0.927270          0.964075        0.944960        0.983525\n",
       "2            0.923068          0.959701        0.940463        0.979897\n",
       "3            0.920979          0.957524        0.938093        0.978486\n",
       "4            0.916836          0.953212        0.933681        0.975068\n",
       "5            0.910694          0.946822        0.927227        0.970069\n",
       "6            0.910692          0.946816        0.927034        0.971791\n",
       "7            0.900638          0.936360        0.916599        0.962810\n",
       "8            0.888864          0.924116        0.904399        0.952145\n",
       "9            0.877393          0.912189        0.892474        0.940130\n",
       "10           0.873634          0.908280        0.888363        0.937552\n",
       "11           0.869908          0.904405        0.884280        0.934912\n",
       "12           0.869908          0.904403        0.883964        0.936067"
      ],
      "text/html": "<div>\n<style scoped>\n    .dataframe tbody tr th:only-of-type {\n        vertical-align: middle;\n    }\n\n    .dataframe tbody tr th {\n        vertical-align: top;\n    }\n\n    .dataframe thead th {\n        text-align: right;\n    }\n</style>\n<table border=\"1\" class=\"dataframe\">\n  <thead>\n    <tr style=\"text-align: right;\">\n      <th></th>\n      <th>single_layer_lstm</th>\n      <th>multi_layer_lstm</th>\n      <th>lstm_attention</th>\n      <th>attention_lstm</th>\n    </tr>\n  </thead>\n  <tbody>\n    <tr>\n      <th>0</th>\n      <td>0.929392</td>\n      <td>0.966286</td>\n      <td>0.947337</td>\n      <td>0.984699</td>\n    </tr>\n    <tr>\n      <th>1</th>\n      <td>0.927270</td>\n      <td>0.964075</td>\n      <td>0.944960</td>\n      <td>0.983525</td>\n    </tr>\n    <tr>\n      <th>2</th>\n      <td>0.923068</td>\n      <td>0.959701</td>\n      <td>0.940463</td>\n      <td>0.979897</td>\n    </tr>\n    <tr>\n      <th>3</th>\n      <td>0.920979</td>\n      <td>0.957524</td>\n      <td>0.938093</td>\n      <td>0.978486</td>\n    </tr>\n    <tr>\n      <th>4</th>\n      <td>0.916836</td>\n      <td>0.953212</td>\n      <td>0.933681</td>\n      <td>0.975068</td>\n    </tr>\n    <tr>\n      <th>5</th>\n      <td>0.910694</td>\n      <td>0.946822</td>\n      <td>0.927227</td>\n      <td>0.970069</td>\n    </tr>\n    <tr>\n      <th>6</th>\n      <td>0.910692</td>\n      <td>0.946816</td>\n      <td>0.927034</td>\n      <td>0.971791</td>\n    </tr>\n    <tr>\n      <th>7</th>\n      <td>0.900638</td>\n      <td>0.936360</td>\n      <td>0.916599</td>\n      <td>0.962810</td>\n    </tr>\n    <tr>\n      <th>8</th>\n      <td>0.888864</td>\n      <td>0.924116</td>\n      <td>0.904399</td>\n      <td>0.952145</td>\n    </tr>\n    <tr>\n      <th>9</th>\n      <td>0.877393</td>\n      <td>0.912189</td>\n      <td>0.892474</td>\n      <td>0.940130</td>\n    </tr>\n    <tr>\n      <th>10</th>\n      <td>0.873634</td>\n      <td>0.908280</td>\n      <td>0.888363</td>\n      <td>0.937552</td>\n    </tr>\n    <tr>\n      <th>11</th>\n      <td>0.869908</td>\n      <td>0.904405</td>\n      <td>0.884280</td>\n      <td>0.934912</td>\n    </tr>\n    <tr>\n      <th>12</th>\n      <td>0.869908</td>\n      <td>0.904403</td>\n      <td>0.883964</td>\n      <td>0.936067</td>\n    </tr>\n  </tbody>\n</table>\n</div>"
     },
     "metadata": {},
     "execution_count": 10
    }
   ],
   "source": [
    "covid_acc"
   ]
  },
  {
   "cell_type": "code",
   "execution_count": 12,
   "metadata": {},
   "outputs": [
    {
     "output_type": "execute_result",
     "data": {
      "text/plain": [
       "single_layer_lstm    0.901483\n",
       "multi_layer_lstm     0.937245\n",
       "lstm_attention       0.917606\n",
       "attention_lstm       0.962088\n",
       "dtype: float64"
      ]
     },
     "metadata": {},
     "execution_count": 12
    }
   ],
   "source": [
    "df = covid_acc.apply(lambda row: row.mean())\n",
    "df"
   ]
  },
  {
   "source": [
    "## Confirmed Cases Forecasting Accuracy"
   ],
   "cell_type": "markdown",
   "metadata": {}
  },
  {
   "cell_type": "code",
   "execution_count": 16,
   "metadata": {},
   "outputs": [
    {
     "output_type": "stream",
     "name": "stdout",
     "text": [
      "13/13 [==============================] - 0s 3ms/step - loss: 7.7001e-04\n",
      "13/13 [==============================] - 1s 6ms/step - loss: 0.0032\n",
      "13/13 [==============================] - 1s 2ms/step - loss: 9.9543e-04\n",
      "13/13 [==============================] - 0s 3ms/step - loss: 2.2534e-04\n"
     ]
    }
   ],
   "source": [
    "# Get confirmed cases dataset\n",
    "dataset, dataset_rolling = get_dataset_confirmed()\n",
    "model_types = ['single_layer_lstm', 'multi_layer_lstm', 'lstm_attention', 'attention_lstm']\n",
    "\n",
    "acc = pd.DataFrame(columns=model_types)\n",
    "\n",
    "for model_type in model_types:\n",
    "    configs = {\n",
    "        'dataset': dataset_rolling,\n",
    "        'model_path': f\"./models/{model_type}_confirmed\",\n",
    "        'model_type': model_type,\n",
    "    }\n",
    "    model = LSTMModel(**configs)\n",
    "    model.read_model()\n",
    "    model.evaluate()\n",
    "    acc[model_type] = model.get_acc()['confirmed'].values"
   ]
  },
  {
   "cell_type": "code",
   "execution_count": 17,
   "metadata": {},
   "outputs": [
    {
     "output_type": "execute_result",
     "data": {
      "text/plain": [
       "    single_layer_lstm  multi_layer_lstm  lstm_attention  attention_lstm\n",
       "0            0.985172          0.963069        0.988704        0.996721\n",
       "1            0.983471          0.959926        0.985950        0.995735\n",
       "2            0.981668          0.956792        0.983044        0.994272\n",
       "3            0.979731          0.953582        0.980020        0.993342\n",
       "4            0.977791          0.950413        0.977014        0.991359\n",
       "5            0.975414          0.947142        0.973891        0.989140\n",
       "6            0.973297          0.943873        0.970732        0.987642\n",
       "7            0.971055          0.940614        0.967535        0.985531\n",
       "8            0.968841          0.937358        0.964274        0.983766\n",
       "9            0.967106          0.934082        0.960959        0.980876\n",
       "10           0.964477          0.930875        0.957634        0.978672\n",
       "11           0.962019          0.927659        0.954204        0.976267\n",
       "12           0.959418          0.924407        0.950690        0.973956"
      ],
      "text/html": "<div>\n<style scoped>\n    .dataframe tbody tr th:only-of-type {\n        vertical-align: middle;\n    }\n\n    .dataframe tbody tr th {\n        vertical-align: top;\n    }\n\n    .dataframe thead th {\n        text-align: right;\n    }\n</style>\n<table border=\"1\" class=\"dataframe\">\n  <thead>\n    <tr style=\"text-align: right;\">\n      <th></th>\n      <th>single_layer_lstm</th>\n      <th>multi_layer_lstm</th>\n      <th>lstm_attention</th>\n      <th>attention_lstm</th>\n    </tr>\n  </thead>\n  <tbody>\n    <tr>\n      <th>0</th>\n      <td>0.985172</td>\n      <td>0.963069</td>\n      <td>0.988704</td>\n      <td>0.996721</td>\n    </tr>\n    <tr>\n      <th>1</th>\n      <td>0.983471</td>\n      <td>0.959926</td>\n      <td>0.985950</td>\n      <td>0.995735</td>\n    </tr>\n    <tr>\n      <th>2</th>\n      <td>0.981668</td>\n      <td>0.956792</td>\n      <td>0.983044</td>\n      <td>0.994272</td>\n    </tr>\n    <tr>\n      <th>3</th>\n      <td>0.979731</td>\n      <td>0.953582</td>\n      <td>0.980020</td>\n      <td>0.993342</td>\n    </tr>\n    <tr>\n      <th>4</th>\n      <td>0.977791</td>\n      <td>0.950413</td>\n      <td>0.977014</td>\n      <td>0.991359</td>\n    </tr>\n    <tr>\n      <th>5</th>\n      <td>0.975414</td>\n      <td>0.947142</td>\n      <td>0.973891</td>\n      <td>0.989140</td>\n    </tr>\n    <tr>\n      <th>6</th>\n      <td>0.973297</td>\n      <td>0.943873</td>\n      <td>0.970732</td>\n      <td>0.987642</td>\n    </tr>\n    <tr>\n      <th>7</th>\n      <td>0.971055</td>\n      <td>0.940614</td>\n      <td>0.967535</td>\n      <td>0.985531</td>\n    </tr>\n    <tr>\n      <th>8</th>\n      <td>0.968841</td>\n      <td>0.937358</td>\n      <td>0.964274</td>\n      <td>0.983766</td>\n    </tr>\n    <tr>\n      <th>9</th>\n      <td>0.967106</td>\n      <td>0.934082</td>\n      <td>0.960959</td>\n      <td>0.980876</td>\n    </tr>\n    <tr>\n      <th>10</th>\n      <td>0.964477</td>\n      <td>0.930875</td>\n      <td>0.957634</td>\n      <td>0.978672</td>\n    </tr>\n    <tr>\n      <th>11</th>\n      <td>0.962019</td>\n      <td>0.927659</td>\n      <td>0.954204</td>\n      <td>0.976267</td>\n    </tr>\n    <tr>\n      <th>12</th>\n      <td>0.959418</td>\n      <td>0.924407</td>\n      <td>0.950690</td>\n      <td>0.973956</td>\n    </tr>\n  </tbody>\n</table>\n</div>"
     },
     "metadata": {},
     "execution_count": 17
    }
   ],
   "source": [
    "acc"
   ]
  },
  {
   "cell_type": "code",
   "execution_count": 18,
   "metadata": {},
   "outputs": [
    {
     "output_type": "execute_result",
     "data": {
      "text/plain": [
       "single_layer_lstm    0.973035\n",
       "multi_layer_lstm     0.943830\n",
       "lstm_attention       0.970358\n",
       "attention_lstm       0.986714\n",
       "dtype: float64"
      ]
     },
     "metadata": {},
     "execution_count": 18
    }
   ],
   "source": [
    "df = acc.apply(lambda row: row.mean())\n",
    "df"
   ]
  }
 ]
}