{
 "metadata": {
  "language_info": {
   "codemirror_mode": {
    "name": "ipython",
    "version": 3
   },
   "file_extension": ".py",
   "mimetype": "text/x-python",
   "name": "python",
   "nbconvert_exporter": "python",
   "pygments_lexer": "ipython3",
   "version": "3.6.4-final"
  },
  "orig_nbformat": 2,
  "kernelspec": {
   "name": "python3",
   "display_name": "Python 3.6.4 64-bit",
   "metadata": {
    "interpreter": {
     "hash": "ef9226f5f281bed155f6877abe961f8893e93036b236b1a7e5395de73a55139a"
    }
   }
  }
 },
 "nbformat": 4,
 "nbformat_minor": 2,
 "cells": [
  {
   "source": [
    "## LSTM Models\n",
    "\n",
    "- Single Layer LSTM\n",
    "- Multiple Layers LSTM\n",
    "- LSTM with Attention"
   ],
   "cell_type": "markdown",
   "metadata": {}
  },
  {
   "source": [
    "## Model Structures"
   ],
   "cell_type": "markdown",
   "metadata": {}
  },
  {
   "cell_type": "code",
   "execution_count": 2,
   "metadata": {},
   "outputs": [
    {
     "output_type": "stream",
     "name": "stdout",
     "text": [
      "('Failed to import pydot. You must `pip install pydot` and install graphviz (https://graphviz.gitlab.io/download/), ', 'for `pydotprint` to work.')\n"
     ]
    }
   ],
   "source": [
    "from tensorflow.keras.utils import plot_model\n",
    "from data import *\n",
    "from lstm_model import *\n",
    "\n",
    "model_types = ['single_layer_lstm']#, 'multi_layer_lstm', 'lstm_attention', 'attention_lstm']\n",
    "_, ds_rolling = get_dataset_trends()\n",
    "for model_type in model_types:\n",
    "    configs = {\n",
    "        'dataset': ds_rolling,\n",
    "        'model_path': f\"./models/{model_type}_trends\",\n",
    "        'model_type': model_type,\n",
    "    }\n",
    "    model = LSTMModel(**configs)\n",
    "    model.read_model()\n",
    "    plot_model(model.model, to_file=f'{model_type}.png')"
   ]
  },
  {
   "source": [
    "## Activation Experiment\n",
    "\n",
    "Test on 4 activation functions in LSTM, including:\n",
    "\n",
    "- sigmoid\n",
    "- tanh\n",
    "- relu\n",
    "- linear"
   ],
   "cell_type": "markdown",
   "metadata": {}
  },
  {
   "cell_type": "code",
   "execution_count": null,
   "metadata": {},
   "outputs": [],
   "source": [
    "import seaborn as sns\n",
    "import pickle as pkl\n",
    "from matplotlib import pyplot as plt\n",
    "\n",
    "from data import *\n",
    "from lstm_model import *\n",
    "\n",
    "# Set plotting style\n",
    "sns.set_style('whitegrid')\n",
    "sns.set_palette('Set2')\n"
   ]
  },
  {
   "cell_type": "code",
   "execution_count": null,
   "metadata": {},
   "outputs": [],
   "source": [
    "# Get confirmed cases dataset\n",
    "dataset, dataset_rolling = get_dataset_confirmed()\n",
    "# Print loss of different activations\n",
    "model_type = 'single_layer_lstm'\n",
    "activations = ['sigmoid', 'tanh', 'linear', 'relu']\n",
    "for activation in activations:\n",
    "    configs = {\n",
    "        'dataset': dataset_rolling,\n",
    "        'model_path': f\"./models/{model_type}_confirmed_{activation}\",\n",
    "        'model_type': model_type,\n",
    "        'activation': activation,\n",
    "    }\n",
    "    model = LSTMModel(**configs)\n",
    "    model.read_model()\n",
    "    # model.plot(f'Confirmed Cases Forcasting with Activation: {activation}')\n",
    "    model.evaluate()"
   ]
  },
  {
   "cell_type": "code",
   "execution_count": null,
   "metadata": {},
   "outputs": [],
   "source": [
    "import pickle\n",
    "\n",
    "activations = [ 'tanh', 'linear', 'relu']\n",
    "# Print loss of different activations\n",
    "for activation in activations:\n",
    "    history_path = f\"./models/{model_type}_confirmed_{activation}/history.pkl\"\n",
    "    history_file = open(history_path, 'rb')\n",
    "    history = pickle.load(history_file)\n",
    "\n",
    "    plt.figure(figsize=(10, 8))\n",
    "    plt.plot(history['loss'])\n",
    "    plt.title(f'Model Loss of {activation}')\n",
    "    plt.ylabel('Loss')\n",
    "    plt.xlabel('Epoch')\n",
    "    # plt.legend(['Loss'], loc='upper left')\n",
    "    plt.show()"
   ]
  },
  {
   "source": [
    "## Forcasting Google Trends"
   ],
   "cell_type": "markdown",
   "metadata": {}
  }
 ]
}